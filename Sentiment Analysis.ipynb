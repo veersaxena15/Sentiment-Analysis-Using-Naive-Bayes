{
 "cells": [
  {
   "cell_type": "code",
   "execution_count": 1,
   "id": "5188225a-5827-46ec-b215-a31e8f5bcf2f",
   "metadata": {},
   "outputs": [],
   "source": [
    "import pandas as pd\n",
    "import numpy as np\n",
    "import re\n",
    "import string\n",
    "from collections import Counter\n",
    "import csv\n",
    "import math\n",
    "import nltk\n",
    "from nltk.stem import SnowballStemmer \n",
    "from nltk.corpus import stopwords  \n",
    "from nltk.tokenize import word_tokenize  \n",
    "from sklearn.utils import resample\n",
    "from sklearn.metrics import classification_report, confusion_matrix, roc_curve, auc\n",
    "from sklearn.model_selection import train_test_split"
   ]
  },
  {
   "cell_type": "markdown",
   "id": "9ebe5057-5076-4376-bac8-ae88214aa9f4",
   "metadata": {},
   "source": [
    "**Reading the csv file**"
   ]
  },
  {
   "cell_type": "code",
   "execution_count": 2,
   "id": "bf33ab67-6628-4421-afbd-53e88012470b",
   "metadata": {
    "scrolled": true
   },
   "outputs": [
    {
     "name": "stderr",
     "output_type": "stream",
     "text": [
      "C:\\Users\\Dell\\AppData\\Local\\Temp\\ipykernel_15216\\2796775284.py:2: DtypeWarning: Columns (1,10) have mixed types. Specify dtype option on import or set low_memory=False.\n",
      "  df = pd.read_csv(r\"Data Set.csv\")\n"
     ]
    },
    {
     "data": {
      "text/html": [
       "<div>\n",
       "<style scoped>\n",
       "    .dataframe tbody tr th:only-of-type {\n",
       "        vertical-align: middle;\n",
       "    }\n",
       "\n",
       "    .dataframe tbody tr th {\n",
       "        vertical-align: top;\n",
       "    }\n",
       "\n",
       "    .dataframe thead th {\n",
       "        text-align: right;\n",
       "    }\n",
       "</style>\n",
       "<table border=\"1\" class=\"dataframe\">\n",
       "  <thead>\n",
       "    <tr style=\"text-align: right;\">\n",
       "      <th></th>\n",
       "      <th>id</th>\n",
       "      <th>name</th>\n",
       "      <th>asins</th>\n",
       "      <th>brand</th>\n",
       "      <th>categories</th>\n",
       "      <th>keys</th>\n",
       "      <th>manufacturer</th>\n",
       "      <th>reviews.date</th>\n",
       "      <th>reviews.dateAdded</th>\n",
       "      <th>reviews.dateSeen</th>\n",
       "      <th>...</th>\n",
       "      <th>reviews.doRecommend</th>\n",
       "      <th>reviews.id</th>\n",
       "      <th>reviews.numHelpful</th>\n",
       "      <th>reviews.rating</th>\n",
       "      <th>reviews.sourceURLs</th>\n",
       "      <th>reviews.text</th>\n",
       "      <th>reviews.title</th>\n",
       "      <th>reviews.userCity</th>\n",
       "      <th>reviews.userProvince</th>\n",
       "      <th>reviews.username</th>\n",
       "    </tr>\n",
       "  </thead>\n",
       "  <tbody>\n",
       "    <tr>\n",
       "      <th>0</th>\n",
       "      <td>AVqkIhwDv8e3D1O-lebb</td>\n",
       "      <td>All-New Fire HD 8 Tablet, 8 HD Display, Wi-Fi,...</td>\n",
       "      <td>B01AHB9CN2</td>\n",
       "      <td>Amazon</td>\n",
       "      <td>Electronics,iPad &amp; Tablets,All Tablets,Fire Ta...</td>\n",
       "      <td>841667104676,amazon/53004484,amazon/b01ahb9cn2...</td>\n",
       "      <td>Amazon</td>\n",
       "      <td>2017-01-13T00:00:00.000Z</td>\n",
       "      <td>2017-07-03T23:33:15Z</td>\n",
       "      <td>2017-06-07T09:04:00.000Z,2017-04-30T00:45:00.000Z</td>\n",
       "      <td>...</td>\n",
       "      <td>True</td>\n",
       "      <td>NaN</td>\n",
       "      <td>0.0</td>\n",
       "      <td>5.0</td>\n",
       "      <td>http://reviews.bestbuy.com/3545/5620406/review...</td>\n",
       "      <td>This product so far has not disappointed. My c...</td>\n",
       "      <td>Kindle</td>\n",
       "      <td>NaN</td>\n",
       "      <td>NaN</td>\n",
       "      <td>Adapter</td>\n",
       "    </tr>\n",
       "    <tr>\n",
       "      <th>1</th>\n",
       "      <td>AVqkIhwDv8e3D1O-lebb</td>\n",
       "      <td>All-New Fire HD 8 Tablet, 8 HD Display, Wi-Fi,...</td>\n",
       "      <td>B01AHB9CN2</td>\n",
       "      <td>Amazon</td>\n",
       "      <td>Electronics,iPad &amp; Tablets,All Tablets,Fire Ta...</td>\n",
       "      <td>841667104676,amazon/53004484,amazon/b01ahb9cn2...</td>\n",
       "      <td>Amazon</td>\n",
       "      <td>2017-01-13T00:00:00.000Z</td>\n",
       "      <td>2017-07-03T23:33:15Z</td>\n",
       "      <td>2017-06-07T09:04:00.000Z,2017-04-30T00:45:00.000Z</td>\n",
       "      <td>...</td>\n",
       "      <td>True</td>\n",
       "      <td>NaN</td>\n",
       "      <td>0.0</td>\n",
       "      <td>5.0</td>\n",
       "      <td>http://reviews.bestbuy.com/3545/5620406/review...</td>\n",
       "      <td>great for beginner or experienced person. Boug...</td>\n",
       "      <td>very fast</td>\n",
       "      <td>NaN</td>\n",
       "      <td>NaN</td>\n",
       "      <td>truman</td>\n",
       "    </tr>\n",
       "    <tr>\n",
       "      <th>2</th>\n",
       "      <td>AVqkIhwDv8e3D1O-lebb</td>\n",
       "      <td>All-New Fire HD 8 Tablet, 8 HD Display, Wi-Fi,...</td>\n",
       "      <td>B01AHB9CN2</td>\n",
       "      <td>Amazon</td>\n",
       "      <td>Electronics,iPad &amp; Tablets,All Tablets,Fire Ta...</td>\n",
       "      <td>841667104676,amazon/53004484,amazon/b01ahb9cn2...</td>\n",
       "      <td>Amazon</td>\n",
       "      <td>2017-01-13T00:00:00.000Z</td>\n",
       "      <td>2017-07-03T23:33:15Z</td>\n",
       "      <td>2017-06-07T09:04:00.000Z,2017-04-30T00:45:00.000Z</td>\n",
       "      <td>...</td>\n",
       "      <td>True</td>\n",
       "      <td>NaN</td>\n",
       "      <td>0.0</td>\n",
       "      <td>5.0</td>\n",
       "      <td>http://reviews.bestbuy.com/3545/5620406/review...</td>\n",
       "      <td>Inexpensive tablet for him to use and learn on...</td>\n",
       "      <td>Beginner tablet for our 9 year old son.</td>\n",
       "      <td>NaN</td>\n",
       "      <td>NaN</td>\n",
       "      <td>DaveZ</td>\n",
       "    </tr>\n",
       "    <tr>\n",
       "      <th>3</th>\n",
       "      <td>AVqkIhwDv8e3D1O-lebb</td>\n",
       "      <td>All-New Fire HD 8 Tablet, 8 HD Display, Wi-Fi,...</td>\n",
       "      <td>B01AHB9CN2</td>\n",
       "      <td>Amazon</td>\n",
       "      <td>Electronics,iPad &amp; Tablets,All Tablets,Fire Ta...</td>\n",
       "      <td>841667104676,amazon/53004484,amazon/b01ahb9cn2...</td>\n",
       "      <td>Amazon</td>\n",
       "      <td>2017-01-13T00:00:00.000Z</td>\n",
       "      <td>2017-07-03T23:33:15Z</td>\n",
       "      <td>2017-06-07T09:04:00.000Z,2017-04-30T00:45:00.000Z</td>\n",
       "      <td>...</td>\n",
       "      <td>True</td>\n",
       "      <td>NaN</td>\n",
       "      <td>0.0</td>\n",
       "      <td>4.0</td>\n",
       "      <td>http://reviews.bestbuy.com/3545/5620406/review...</td>\n",
       "      <td>I've had my Fire HD 8 two weeks now and I love...</td>\n",
       "      <td>Good!!!</td>\n",
       "      <td>NaN</td>\n",
       "      <td>NaN</td>\n",
       "      <td>Shacks</td>\n",
       "    </tr>\n",
       "    <tr>\n",
       "      <th>4</th>\n",
       "      <td>AVqkIhwDv8e3D1O-lebb</td>\n",
       "      <td>All-New Fire HD 8 Tablet, 8 HD Display, Wi-Fi,...</td>\n",
       "      <td>B01AHB9CN2</td>\n",
       "      <td>Amazon</td>\n",
       "      <td>Electronics,iPad &amp; Tablets,All Tablets,Fire Ta...</td>\n",
       "      <td>841667104676,amazon/53004484,amazon/b01ahb9cn2...</td>\n",
       "      <td>Amazon</td>\n",
       "      <td>2017-01-12T00:00:00.000Z</td>\n",
       "      <td>2017-07-03T23:33:15Z</td>\n",
       "      <td>2017-06-07T09:04:00.000Z,2017-04-30T00:45:00.000Z</td>\n",
       "      <td>...</td>\n",
       "      <td>True</td>\n",
       "      <td>NaN</td>\n",
       "      <td>0.0</td>\n",
       "      <td>5.0</td>\n",
       "      <td>http://reviews.bestbuy.com/3545/5620406/review...</td>\n",
       "      <td>I bought this for my grand daughter when she c...</td>\n",
       "      <td>Fantastic Tablet for kids</td>\n",
       "      <td>NaN</td>\n",
       "      <td>NaN</td>\n",
       "      <td>explore42</td>\n",
       "    </tr>\n",
       "  </tbody>\n",
       "</table>\n",
       "<p>5 rows × 21 columns</p>\n",
       "</div>"
      ],
      "text/plain": [
       "                     id                                               name  \\\n",
       "0  AVqkIhwDv8e3D1O-lebb  All-New Fire HD 8 Tablet, 8 HD Display, Wi-Fi,...   \n",
       "1  AVqkIhwDv8e3D1O-lebb  All-New Fire HD 8 Tablet, 8 HD Display, Wi-Fi,...   \n",
       "2  AVqkIhwDv8e3D1O-lebb  All-New Fire HD 8 Tablet, 8 HD Display, Wi-Fi,...   \n",
       "3  AVqkIhwDv8e3D1O-lebb  All-New Fire HD 8 Tablet, 8 HD Display, Wi-Fi,...   \n",
       "4  AVqkIhwDv8e3D1O-lebb  All-New Fire HD 8 Tablet, 8 HD Display, Wi-Fi,...   \n",
       "\n",
       "        asins   brand                                         categories  \\\n",
       "0  B01AHB9CN2  Amazon  Electronics,iPad & Tablets,All Tablets,Fire Ta...   \n",
       "1  B01AHB9CN2  Amazon  Electronics,iPad & Tablets,All Tablets,Fire Ta...   \n",
       "2  B01AHB9CN2  Amazon  Electronics,iPad & Tablets,All Tablets,Fire Ta...   \n",
       "3  B01AHB9CN2  Amazon  Electronics,iPad & Tablets,All Tablets,Fire Ta...   \n",
       "4  B01AHB9CN2  Amazon  Electronics,iPad & Tablets,All Tablets,Fire Ta...   \n",
       "\n",
       "                                                keys manufacturer  \\\n",
       "0  841667104676,amazon/53004484,amazon/b01ahb9cn2...       Amazon   \n",
       "1  841667104676,amazon/53004484,amazon/b01ahb9cn2...       Amazon   \n",
       "2  841667104676,amazon/53004484,amazon/b01ahb9cn2...       Amazon   \n",
       "3  841667104676,amazon/53004484,amazon/b01ahb9cn2...       Amazon   \n",
       "4  841667104676,amazon/53004484,amazon/b01ahb9cn2...       Amazon   \n",
       "\n",
       "               reviews.date     reviews.dateAdded  \\\n",
       "0  2017-01-13T00:00:00.000Z  2017-07-03T23:33:15Z   \n",
       "1  2017-01-13T00:00:00.000Z  2017-07-03T23:33:15Z   \n",
       "2  2017-01-13T00:00:00.000Z  2017-07-03T23:33:15Z   \n",
       "3  2017-01-13T00:00:00.000Z  2017-07-03T23:33:15Z   \n",
       "4  2017-01-12T00:00:00.000Z  2017-07-03T23:33:15Z   \n",
       "\n",
       "                                    reviews.dateSeen  ... reviews.doRecommend  \\\n",
       "0  2017-06-07T09:04:00.000Z,2017-04-30T00:45:00.000Z  ...                True   \n",
       "1  2017-06-07T09:04:00.000Z,2017-04-30T00:45:00.000Z  ...                True   \n",
       "2  2017-06-07T09:04:00.000Z,2017-04-30T00:45:00.000Z  ...                True   \n",
       "3  2017-06-07T09:04:00.000Z,2017-04-30T00:45:00.000Z  ...                True   \n",
       "4  2017-06-07T09:04:00.000Z,2017-04-30T00:45:00.000Z  ...                True   \n",
       "\n",
       "  reviews.id  reviews.numHelpful  reviews.rating  \\\n",
       "0        NaN                 0.0             5.0   \n",
       "1        NaN                 0.0             5.0   \n",
       "2        NaN                 0.0             5.0   \n",
       "3        NaN                 0.0             4.0   \n",
       "4        NaN                 0.0             5.0   \n",
       "\n",
       "                                  reviews.sourceURLs  \\\n",
       "0  http://reviews.bestbuy.com/3545/5620406/review...   \n",
       "1  http://reviews.bestbuy.com/3545/5620406/review...   \n",
       "2  http://reviews.bestbuy.com/3545/5620406/review...   \n",
       "3  http://reviews.bestbuy.com/3545/5620406/review...   \n",
       "4  http://reviews.bestbuy.com/3545/5620406/review...   \n",
       "\n",
       "                                        reviews.text  \\\n",
       "0  This product so far has not disappointed. My c...   \n",
       "1  great for beginner or experienced person. Boug...   \n",
       "2  Inexpensive tablet for him to use and learn on...   \n",
       "3  I've had my Fire HD 8 two weeks now and I love...   \n",
       "4  I bought this for my grand daughter when she c...   \n",
       "\n",
       "                             reviews.title reviews.userCity  \\\n",
       "0                                   Kindle              NaN   \n",
       "1                                very fast              NaN   \n",
       "2  Beginner tablet for our 9 year old son.              NaN   \n",
       "3                                  Good!!!              NaN   \n",
       "4                Fantastic Tablet for kids              NaN   \n",
       "\n",
       "   reviews.userProvince  reviews.username  \n",
       "0                   NaN           Adapter  \n",
       "1                   NaN            truman  \n",
       "2                   NaN             DaveZ  \n",
       "3                   NaN            Shacks  \n",
       "4                   NaN         explore42  \n",
       "\n",
       "[5 rows x 21 columns]"
      ]
     },
     "execution_count": 2,
     "metadata": {},
     "output_type": "execute_result"
    }
   ],
   "source": [
    "#Creating a data frame out of the csv file\n",
    "df = pd.read_csv(r\"Data Set.csv\")\n",
    "df.head() #head function is used to show the top 5 rows of dataframe"
   ]
  },
  {
   "cell_type": "code",
   "execution_count": 3,
   "id": "efddd286-7dd4-41fe-8b65-5d72e0f84fd4",
   "metadata": {
    "scrolled": true
   },
   "outputs": [
    {
     "name": "stdout",
     "output_type": "stream",
     "text": [
      "<class 'pandas.core.frame.DataFrame'>\n",
      "RangeIndex: 34660 entries, 0 to 34659\n",
      "Data columns (total 21 columns):\n",
      " #   Column                Non-Null Count  Dtype  \n",
      "---  ------                --------------  -----  \n",
      " 0   id                    34660 non-null  object \n",
      " 1   name                  27900 non-null  object \n",
      " 2   asins                 34658 non-null  object \n",
      " 3   brand                 34660 non-null  object \n",
      " 4   categories            34660 non-null  object \n",
      " 5   keys                  34660 non-null  object \n",
      " 6   manufacturer          34660 non-null  object \n",
      " 7   reviews.date          34621 non-null  object \n",
      " 8   reviews.dateAdded     24039 non-null  object \n",
      " 9   reviews.dateSeen      34660 non-null  object \n",
      " 10  reviews.didPurchase   1 non-null      object \n",
      " 11  reviews.doRecommend   34066 non-null  object \n",
      " 12  reviews.id            1 non-null      float64\n",
      " 13  reviews.numHelpful    34131 non-null  float64\n",
      " 14  reviews.rating        34627 non-null  float64\n",
      " 15  reviews.sourceURLs    34660 non-null  object \n",
      " 16  reviews.text          34659 non-null  object \n",
      " 17  reviews.title         34654 non-null  object \n",
      " 18  reviews.userCity      0 non-null      float64\n",
      " 19  reviews.userProvince  0 non-null      float64\n",
      " 20  reviews.username      34653 non-null  object \n",
      "dtypes: float64(5), object(16)\n",
      "memory usage: 5.6+ MB\n"
     ]
    }
   ],
   "source": [
    "#Some information about the dataset\n",
    "df.info()"
   ]
  },
  {
   "cell_type": "code",
   "execution_count": 4,
   "id": "47c1d0f5-d235-480f-a257-36b9a4e8bf10",
   "metadata": {},
   "outputs": [
    {
     "data": {
      "text/plain": [
       "reviews.rating\n",
       "5.0    23775\n",
       "4.0     8541\n",
       "3.0     1499\n",
       "1.0      410\n",
       "2.0      402\n",
       "Name: count, dtype: int64"
      ]
     },
     "execution_count": 4,
     "metadata": {},
     "output_type": "execute_result"
    }
   ],
   "source": [
    "df[\"reviews.rating\"].value_counts().sort_values(ascending = False)"
   ]
  },
  {
   "cell_type": "markdown",
   "id": "67133e67-646a-40f8-b0a9-f62e7906d289",
   "metadata": {},
   "source": [
    "**Converting the emojis to text**"
   ]
  },
  {
   "cell_type": "code",
   "execution_count": 5,
   "id": "2b2a677e-8f67-4c18-a6f9-d5f09fc4af38",
   "metadata": {},
   "outputs": [],
   "source": [
    "#Converting Emojis to their Respective Emotions\n",
    "df[\"reviews.text\"] = df[\"reviews.text\"].replace([r\"\\:\\)\",r\"\\:\\-\\)\", r\"\\:\\-\\}\",r\"\\;\\-\\}\",r\"\\:\\-\\>\",r\"\\;\\-\\)\"], [\"Happy\",\"Happy\",\"Happy\",\"Happy\",\"Happy\",\"Happy\"], regex=True)\n",
    "df[\"reviews.text\"] = df[\"reviews.text\"].replace([r\"\\:\\-\\(\",r\"\\:\\(\",r\"\\:\\-\\|\",r\"\\;\\-\\(\",r\"\\;\\-\\<\",r\"\\|\\-\\{\"], [\"Sad\", \"Sad\", \"Sad\", \"Sad\", \"Sad\", \"Sad\",], regex=True)\n",
    "df[\"reviews.text\"] = df[\"reviews.text\"].replace([r\"\\:\\D\",r\"\\:\\'\\-\\)\",r\"\\:\\`\\-\\(\"], [\"laugh\", \"tear of joy\", \"tear of sadness\"], regex=True)"
   ]
  },
  {
   "cell_type": "code",
   "execution_count": 6,
   "id": "52c1ecab-6e33-424b-b4a7-016d046a68dd",
   "metadata": {},
   "outputs": [
    {
     "name": "stderr",
     "output_type": "stream",
     "text": [
      "[nltk_data] Downloading package punkt to\n",
      "[nltk_data]     C:\\Users\\Dell\\AppData\\Roaming\\nltk_data...\n",
      "[nltk_data]   Unzipping tokenizers\\punkt.zip.\n",
      "[nltk_data] Downloading package stopwords to\n",
      "[nltk_data]     C:\\Users\\Dell\\AppData\\Roaming\\nltk_data...\n",
      "[nltk_data]   Unzipping corpora\\stopwords.zip.\n"
     ]
    }
   ],
   "source": [
    "# Download NLTK resources\n",
    "nltk.download('punkt')\n",
    "nltk.download('stopwords')\n",
    "\n",
    "# Initialize stemmer and stopwords\n",
    "stemmer = SnowballStemmer('english')\n",
    "stop_words = set(stopwords.words('english'))"
   ]
  },
  {
   "cell_type": "code",
   "execution_count": 7,
   "id": "59be0690-506d-4821-93da-35201f22a16d",
   "metadata": {},
   "outputs": [],
   "source": [
    "# Text preprocessing function\n",
    "def preprocess_text(text):\n",
    "    if not isinstance(text, str):\n",
    "        return \"\"\n",
    "    # Convert to lowercase\n",
    "    text = text.lower()\n",
    "    # Remove punctuation\n",
    "    text = text.translate(str.maketrans('', '', string.punctuation))\n",
    "    # Tokenize\n",
    "    words = word_tokenize(text)\n",
    "    # Remove stopwords and stem\n",
    "    words = [stemmer.stem(w) for w in words if w not in stop_words and len(w) > 2]\n",
    "    return ' '.join(words)"
   ]
  },
  {
   "cell_type": "code",
   "execution_count": 8,
   "id": "b9367abc-d31f-4892-890e-8b87114093d7",
   "metadata": {},
   "outputs": [
    {
     "data": {
      "text/html": [
       "<div>\n",
       "<style scoped>\n",
       "    .dataframe tbody tr th:only-of-type {\n",
       "        vertical-align: middle;\n",
       "    }\n",
       "\n",
       "    .dataframe tbody tr th {\n",
       "        vertical-align: top;\n",
       "    }\n",
       "\n",
       "    .dataframe thead th {\n",
       "        text-align: right;\n",
       "    }\n",
       "</style>\n",
       "<table border=\"1\" class=\"dataframe\">\n",
       "  <thead>\n",
       "    <tr style=\"text-align: right;\">\n",
       "      <th></th>\n",
       "      <th>reviews</th>\n",
       "      <th>score</th>\n",
       "    </tr>\n",
       "  </thead>\n",
       "  <tbody>\n",
       "    <tr>\n",
       "      <th>0</th>\n",
       "      <td>This product so far has not disappointed. My c...</td>\n",
       "      <td>5.0</td>\n",
       "    </tr>\n",
       "    <tr>\n",
       "      <th>1</th>\n",
       "      <td>great for beginner or experienced person. Boug...</td>\n",
       "      <td>5.0</td>\n",
       "    </tr>\n",
       "    <tr>\n",
       "      <th>2</th>\n",
       "      <td>Inexpensive tablet for him to use and learn on...</td>\n",
       "      <td>5.0</td>\n",
       "    </tr>\n",
       "    <tr>\n",
       "      <th>3</th>\n",
       "      <td>I've had my Fire HD 8 two weeks now and I love...</td>\n",
       "      <td>4.0</td>\n",
       "    </tr>\n",
       "    <tr>\n",
       "      <th>4</th>\n",
       "      <td>I bought this for my grand daughter when she c...</td>\n",
       "      <td>5.0</td>\n",
       "    </tr>\n",
       "    <tr>\n",
       "      <th>...</th>\n",
       "      <td>...</td>\n",
       "      <td>...</td>\n",
       "    </tr>\n",
       "    <tr>\n",
       "      <th>34655</th>\n",
       "      <td>This is not appreciably faster than any other ...</td>\n",
       "      <td>3.0</td>\n",
       "    </tr>\n",
       "    <tr>\n",
       "      <th>34656</th>\n",
       "      <td>Amazon should include this charger with the Ki...</td>\n",
       "      <td>1.0</td>\n",
       "    </tr>\n",
       "    <tr>\n",
       "      <th>34657</th>\n",
       "      <td>Love my Kindle Fire but I am really disappoint...</td>\n",
       "      <td>1.0</td>\n",
       "    </tr>\n",
       "    <tr>\n",
       "      <th>34658</th>\n",
       "      <td>I was surprised to find it did not come with a...</td>\n",
       "      <td>1.0</td>\n",
       "    </tr>\n",
       "    <tr>\n",
       "      <th>34659</th>\n",
       "      <td>to spite the fact that i have nothing but good...</td>\n",
       "      <td>1.0</td>\n",
       "    </tr>\n",
       "  </tbody>\n",
       "</table>\n",
       "<p>34660 rows × 2 columns</p>\n",
       "</div>"
      ],
      "text/plain": [
       "                                                 reviews  score\n",
       "0      This product so far has not disappointed. My c...    5.0\n",
       "1      great for beginner or experienced person. Boug...    5.0\n",
       "2      Inexpensive tablet for him to use and learn on...    5.0\n",
       "3      I've had my Fire HD 8 two weeks now and I love...    4.0\n",
       "4      I bought this for my grand daughter when she c...    5.0\n",
       "...                                                  ...    ...\n",
       "34655  This is not appreciably faster than any other ...    3.0\n",
       "34656  Amazon should include this charger with the Ki...    1.0\n",
       "34657  Love my Kindle Fire but I am really disappoint...    1.0\n",
       "34658  I was surprised to find it did not come with a...    1.0\n",
       "34659  to spite the fact that i have nothing but good...    1.0\n",
       "\n",
       "[34660 rows x 2 columns]"
      ]
     },
     "execution_count": 8,
     "metadata": {},
     "output_type": "execute_result"
    }
   ],
   "source": [
    "data_set = df[[\"reviews.text\", \"reviews.rating\"]]\n",
    "data_set.columns = [\"reviews\", \"score\"]\n",
    "data_set"
   ]
  },
  {
   "cell_type": "code",
   "execution_count": 9,
   "id": "7d18e3ed-5aa7-4beb-9810-2eb00d334120",
   "metadata": {},
   "outputs": [
    {
     "name": "stderr",
     "output_type": "stream",
     "text": [
      "C:\\Users\\Dell\\AppData\\Local\\Temp\\ipykernel_15216\\2557895674.py:1: SettingWithCopyWarning: \n",
      "A value is trying to be set on a copy of a slice from a DataFrame.\n",
      "Try using .loc[row_indexer,col_indexer] = value instead\n",
      "\n",
      "See the caveats in the documentation: https://pandas.pydata.org/pandas-docs/stable/user_guide/indexing.html#returning-a-view-versus-a-copy\n",
      "  data_set[\"sentiment\"] = np.where(data_set[\"score\"] >= 4, 1, -1)\n"
     ]
    },
    {
     "data": {
      "text/html": [
       "<div>\n",
       "<style scoped>\n",
       "    .dataframe tbody tr th:only-of-type {\n",
       "        vertical-align: middle;\n",
       "    }\n",
       "\n",
       "    .dataframe tbody tr th {\n",
       "        vertical-align: top;\n",
       "    }\n",
       "\n",
       "    .dataframe thead th {\n",
       "        text-align: right;\n",
       "    }\n",
       "</style>\n",
       "<table border=\"1\" class=\"dataframe\">\n",
       "  <thead>\n",
       "    <tr style=\"text-align: right;\">\n",
       "      <th></th>\n",
       "      <th>reviews</th>\n",
       "      <th>score</th>\n",
       "      <th>sentiment</th>\n",
       "    </tr>\n",
       "  </thead>\n",
       "  <tbody>\n",
       "    <tr>\n",
       "      <th>0</th>\n",
       "      <td>This product so far has not disappointed. My c...</td>\n",
       "      <td>5.0</td>\n",
       "      <td>1</td>\n",
       "    </tr>\n",
       "    <tr>\n",
       "      <th>1</th>\n",
       "      <td>great for beginner or experienced person. Boug...</td>\n",
       "      <td>5.0</td>\n",
       "      <td>1</td>\n",
       "    </tr>\n",
       "    <tr>\n",
       "      <th>2</th>\n",
       "      <td>Inexpensive tablet for him to use and learn on...</td>\n",
       "      <td>5.0</td>\n",
       "      <td>1</td>\n",
       "    </tr>\n",
       "    <tr>\n",
       "      <th>3</th>\n",
       "      <td>I've had my Fire HD 8 two weeks now and I love...</td>\n",
       "      <td>4.0</td>\n",
       "      <td>1</td>\n",
       "    </tr>\n",
       "    <tr>\n",
       "      <th>4</th>\n",
       "      <td>I bought this for my grand daughter when she c...</td>\n",
       "      <td>5.0</td>\n",
       "      <td>1</td>\n",
       "    </tr>\n",
       "    <tr>\n",
       "      <th>...</th>\n",
       "      <td>...</td>\n",
       "      <td>...</td>\n",
       "      <td>...</td>\n",
       "    </tr>\n",
       "    <tr>\n",
       "      <th>34655</th>\n",
       "      <td>This is not appreciably faster than any other ...</td>\n",
       "      <td>3.0</td>\n",
       "      <td>-1</td>\n",
       "    </tr>\n",
       "    <tr>\n",
       "      <th>34656</th>\n",
       "      <td>Amazon should include this charger with the Ki...</td>\n",
       "      <td>1.0</td>\n",
       "      <td>-1</td>\n",
       "    </tr>\n",
       "    <tr>\n",
       "      <th>34657</th>\n",
       "      <td>Love my Kindle Fire but I am really disappoint...</td>\n",
       "      <td>1.0</td>\n",
       "      <td>-1</td>\n",
       "    </tr>\n",
       "    <tr>\n",
       "      <th>34658</th>\n",
       "      <td>I was surprised to find it did not come with a...</td>\n",
       "      <td>1.0</td>\n",
       "      <td>-1</td>\n",
       "    </tr>\n",
       "    <tr>\n",
       "      <th>34659</th>\n",
       "      <td>to spite the fact that i have nothing but good...</td>\n",
       "      <td>1.0</td>\n",
       "      <td>-1</td>\n",
       "    </tr>\n",
       "  </tbody>\n",
       "</table>\n",
       "<p>34660 rows × 3 columns</p>\n",
       "</div>"
      ],
      "text/plain": [
       "                                                 reviews  score  sentiment\n",
       "0      This product so far has not disappointed. My c...    5.0          1\n",
       "1      great for beginner or experienced person. Boug...    5.0          1\n",
       "2      Inexpensive tablet for him to use and learn on...    5.0          1\n",
       "3      I've had my Fire HD 8 two weeks now and I love...    4.0          1\n",
       "4      I bought this for my grand daughter when she c...    5.0          1\n",
       "...                                                  ...    ...        ...\n",
       "34655  This is not appreciably faster than any other ...    3.0         -1\n",
       "34656  Amazon should include this charger with the Ki...    1.0         -1\n",
       "34657  Love my Kindle Fire but I am really disappoint...    1.0         -1\n",
       "34658  I was surprised to find it did not come with a...    1.0         -1\n",
       "34659  to spite the fact that i have nothing but good...    1.0         -1\n",
       "\n",
       "[34660 rows x 3 columns]"
      ]
     },
     "execution_count": 9,
     "metadata": {},
     "output_type": "execute_result"
    }
   ],
   "source": [
    "data_set[\"sentiment\"] = np.where(data_set[\"score\"] >= 4, 1, -1)\n",
    "data_set\n"
   ]
  },
  {
   "cell_type": "code",
   "execution_count": 10,
   "id": "4b5ba53b-00c4-47a1-8ddf-93f0096a2827",
   "metadata": {},
   "outputs": [],
   "source": [
    "df_majority = data_set[data_set['sentiment'] == 1]\n",
    "df_minority = data_set[data_set['sentiment'] == -1]"
   ]
  },
  {
   "cell_type": "code",
   "execution_count": 11,
   "id": "7f4caa45-6539-438b-8fa9-054d4a2747aa",
   "metadata": {},
   "outputs": [
    {
     "name": "stdout",
     "output_type": "stream",
     "text": [
      "32316\n",
      "2344\n"
     ]
    }
   ],
   "source": [
    "print(len(df_majority))\n",
    "print(len(df_minority))"
   ]
  },
  {
   "cell_type": "code",
   "execution_count": 12,
   "id": "befcb86d-f8d2-4b29-968b-93f7031f2eff",
   "metadata": {},
   "outputs": [
    {
     "name": "stderr",
     "output_type": "stream",
     "text": [
      "[nltk_data] Downloading package punkt_tab to\n",
      "[nltk_data]     C:\\Users\\Dell\\AppData\\Roaming\\nltk_data...\n",
      "[nltk_data]   Unzipping tokenizers\\punkt_tab.zip.\n"
     ]
    }
   ],
   "source": [
    "nltk.download('punkt_tab')\n",
    "# Balance the dataset\n",
    "df_majority = data_set[data_set['sentiment'] == 1]\n",
    "df_minority = data_set[data_set['sentiment'] == -1]\n",
    "\n",
    "# Downsample majority class\n",
    "df_majority_downsampled = resample(df_majority,n_samples=len(df_minority),random_state=42)\n",
    "\n",
    "\n",
    "\n",
    "# Combine balanced dataset\n",
    "balanced_data = pd.concat([df_majority_downsampled, df_minority])\n",
    "\n",
    "# Preprocess all reviews\n",
    "balanced_data['processed_reviews'] = balanced_data['reviews'].apply(preprocess_text)"
   ]
  },
  {
   "cell_type": "code",
   "execution_count": 13,
   "id": "5e9a138b-2e4f-4c29-b23e-970a8a1e810e",
   "metadata": {},
   "outputs": [],
   "source": [
    "# Split into train and test sets\n",
    "train, test = train_test_split(balanced_data, test_size=0.3, random_state=42)"
   ]
  },
  {
   "cell_type": "code",
   "execution_count": 14,
   "id": "9a5947d5-a78f-4e7a-9d23-fc0650cd1c17",
   "metadata": {},
   "outputs": [],
   "source": [
    "# Save to CSV\n",
    "train[['processed_reviews', 'sentiment']].to_csv('train.csv', index=False,header=False)\n",
    "test[['processed_reviews', 'sentiment']].to_csv('test.csv', index=False,header=False)"
   ]
  },
  {
   "cell_type": "code",
   "execution_count": 18,
   "id": "09bf9b62-3033-410a-bb79-8b3cdadbdf1c",
   "metadata": {},
   "outputs": [],
   "source": [
    "# Read training data\n",
    "with open(\"train.csv\", 'r',encoding='utf-8') as file:\n",
    "    reviews = list(csv.reader(file))"
   ]
  },
  {
   "cell_type": "code",
   "execution_count": 19,
   "id": "80d09266-1716-4af6-96e2-8400c6267dad",
   "metadata": {},
   "outputs": [],
   "source": [
    "# Get positive and negative texts\n",
    "def get_text(reviews, score):\n",
    "    return \" \".join([r[0] for r in reviews if r[1] == str(score)])\n",
    "\n",
    "negative_text = get_text(reviews, -1)\n",
    "positive_text = get_text(reviews, 1)"
   ]
  },
  {
   "cell_type": "code",
   "execution_count": 21,
   "id": "4e53e306-9543-42d5-b79f-4ee3ba9ed39d",
   "metadata": {},
   "outputs": [],
   "source": [
    "# Count words\n",
    "def count_text(text):\n",
    "    words = re.split(\"\\s+\", text)\n",
    "    return Counter(words)\n",
    "\n",
    "negative_counts = count_text(negative_text)\n",
    "positive_counts = count_text(positive_text)"
   ]
  },
  {
   "cell_type": "code",
   "execution_count": 22,
   "id": "d973c595-5f93-4737-8172-51c0c35243a3",
   "metadata": {},
   "outputs": [],
   "source": [
    "# Get class counts\n",
    "def get_y_count(score):\n",
    "    return len([r for r in reviews if r[1] == str(score)])\n",
    "\n",
    "positive_review_count = get_y_count(1)\n",
    "negative_review_count = get_y_count(-1)\n",
    "\n",
    "# Class probabilities\n",
    "prob_positive = positive_review_count / len(reviews)\n",
    "prob_negative = negative_review_count / len(reviews)\n"
   ]
  },
  {
   "cell_type": "code",
   "execution_count": 23,
   "id": "16fd06e5-fdba-425d-9382-f775c0d37787",
   "metadata": {},
   "outputs": [
    {
     "name": "stdout",
     "output_type": "stream",
     "text": [
      "0.49832368180432796\n",
      "0.501676318195672\n"
     ]
    }
   ],
   "source": [
    "print(prob_positive)\n",
    "print(prob_negative)"
   ]
  },
  {
   "cell_type": "code",
   "execution_count": 24,
   "id": "ec09219e-5389-4810-a8a2-6ac3fc79a18e",
   "metadata": {},
   "outputs": [],
   "source": [
    "# Improved prediction function with log probabilities\n",
    "def make_class_prediction(text, counts, class_prob, class_count):\n",
    "    log_prediction = math.log(class_prob) \n",
    "    text_counts = Counter(re.split(\"\\s+\", text))\n",
    "    total_words = sum(counts.values()) + class_count\n",
    "    \n",
    "    for word in text_counts:\n",
    "        word_prob = (counts.get(word, 0) + 1) / total_words\n",
    "        log_prediction += text_counts[word] * math.log(word_prob)\n",
    "    \n",
    "    return log_prediction"
   ]
  },
  {
   "cell_type": "code",
   "execution_count": 25,
   "id": "6fc0a065-7c68-4e5e-94e7-77572720c33a",
   "metadata": {},
   "outputs": [],
   "source": [
    "def evaluate_model(test_data):\n",
    "    actual = []\n",
    "    predictions = []\n",
    "    \n",
    "    for review in test_data:\n",
    "        if len(review) < 2:  # Skip malformed rows\n",
    "            continue\n",
    "            \n",
    "        text = review[0]\n",
    "        try:\n",
    "            true_label = int(review[1])\n",
    "        except ValueError:\n",
    "            continue  # Skip header row if it exists\n",
    "            \n",
    "        actual.append(true_label)\n",
    "        \n",
    "        neg_pred = make_class_prediction(text, negative_counts, prob_negative, negative_review_count)\n",
    "        pos_pred = make_class_prediction(text, positive_counts, prob_positive, positive_review_count)\n",
    "        \n",
    "        pred = -1 if neg_pred > pos_pred else 1\n",
    "        predictions.append(pred)\n",
    "    \n",
    "    if not actual:  # Check if we have any valid data\n",
    "        print(\"No valid test data found\")\n",
    "        return\n",
    "    \n",
    "    print(\"\\nClassification Report:\")\n",
    "    print(classification_report(actual, predictions, target_names=['Negative', 'Positive']))\n",
    "    \n",
    "    print(\"\\nConfusion Matrix:\")\n",
    "    print(confusion_matrix(actual, predictions))\n",
    "    \n",
    "    fpr, tpr, thresholds = roc_curve(actual, predictions, pos_label=1)\n",
    "    print(f\"\\nAUC: {auc(fpr, tpr):.2f}\")"
   ]
  },
  {
   "cell_type": "code",
   "execution_count": 26,
   "id": "8b1cb616-b537-4811-9f41-fdb737190566",
   "metadata": {},
   "outputs": [],
   "source": [
    "# Load test data properly\n",
    "test_data = []\n",
    "with open(\"test.csv\", 'r') as file:\n",
    "    reader = csv.reader(file)\n",
    "    for row in reader:\n",
    "        if len(row) >= 2:  # Only take rows with both text and label\n",
    "            test_data.append(row)"
   ]
  },
  {
   "cell_type": "code",
   "execution_count": 27,
   "id": "bf66ce40-fb13-4706-8137-c73f697e0696",
   "metadata": {},
   "outputs": [
    {
     "name": "stdout",
     "output_type": "stream",
     "text": [
      "\n",
      "Classification Report:\n",
      "              precision    recall  f1-score   support\n",
      "\n",
      "    Negative       0.81      0.73      0.77       698\n",
      "    Positive       0.76      0.83      0.79       709\n",
      "\n",
      "    accuracy                           0.78      1407\n",
      "   macro avg       0.78      0.78      0.78      1407\n",
      "weighted avg       0.78      0.78      0.78      1407\n",
      "\n",
      "\n",
      "Confusion Matrix:\n",
      "[[508 190]\n",
      " [118 591]]\n",
      "\n",
      "AUC: 0.78\n"
     ]
    }
   ],
   "source": [
    "# Evaluate model\n",
    "evaluate_model(test_data)"
   ]
  },
  {
   "cell_type": "code",
   "execution_count": 29,
   "id": "61a9ac2f-8b91-4f67-8542-1c722a2db297",
   "metadata": {},
   "outputs": [
    {
     "name": "stdout",
     "output_type": "stream",
     "text": [
      "\n",
      "Review Sentiment Analysis Tool\n"
     ]
    },
    {
     "name": "stdin",
     "output_type": "stream",
     "text": [
      "\n",
      "Enter a review to analyze (or 'quit' to exit):  the product is good but there are some  minor flaws \n"
     ]
    },
    {
     "name": "stdout",
     "output_type": "stream",
     "text": [
      "\n",
      "Predicted sentiment: NEGATIVE\n"
     ]
    },
    {
     "name": "stdin",
     "output_type": "stream",
     "text": [
      "\n",
      "Enter a review to analyze (or 'quit' to exit):  product is good \n"
     ]
    },
    {
     "name": "stdout",
     "output_type": "stream",
     "text": [
      "\n",
      "Predicted sentiment: POSITIVE\n"
     ]
    },
    {
     "name": "stdin",
     "output_type": "stream",
     "text": [
      "\n",
      "Enter a review to analyze (or 'quit' to exit):  product is neutral\n"
     ]
    },
    {
     "name": "stdout",
     "output_type": "stream",
     "text": [
      "\n",
      "Predicted sentiment: POSITIVE\n"
     ]
    },
    {
     "name": "stdin",
     "output_type": "stream",
     "text": [
      "\n",
      "Enter a review to analyze (or 'quit' to exit):  neither good nor bad\n"
     ]
    },
    {
     "name": "stdout",
     "output_type": "stream",
     "text": [
      "\n",
      "Predicted sentiment: NEGATIVE\n"
     ]
    },
    {
     "name": "stdin",
     "output_type": "stream",
     "text": [
      "\n",
      "Enter a review to analyze (or 'quit' to exit):  neither bad nor good\n"
     ]
    },
    {
     "name": "stdout",
     "output_type": "stream",
     "text": [
      "\n",
      "Predicted sentiment: NEGATIVE\n"
     ]
    },
    {
     "name": "stdin",
     "output_type": "stream",
     "text": [
      "\n",
      "Enter a review to analyze (or 'quit' to exit):  quit\n"
     ]
    }
   ],
   "source": [
    "# Interactive prediction\n",
    "def predict_sentiment():\n",
    "    while True:\n",
    "        review_text = input(\"\\nEnter a review to analyze (or 'quit' to exit): \")\n",
    "        if review_text.lower() == 'quit':\n",
    "            break\n",
    "        \n",
    "        processed_text = preprocess_text(review_text)\n",
    "        neg_pred = make_class_prediction(processed_text, negative_counts, prob_negative, negative_review_count)\n",
    "        pos_pred = make_class_prediction(processed_text, positive_counts, prob_positive, positive_review_count)\n",
    "        \n",
    "        print(\"\\nPredicted sentiment:\", \"POSITIVE\" if pos_pred > neg_pred else \"NEGATIVE\")\n",
    "\n",
    "# Run interactive prediction\n",
    "print(\"\\nReview Sentiment Analysis Tool\")\n",
    "predict_sentiment()"
   ]
  }
 ],
 "metadata": {
  "kernelspec": {
   "display_name": "Python [conda env:base] *",
   "language": "python",
   "name": "conda-base-py"
  },
  "language_info": {
   "codemirror_mode": {
    "name": "ipython",
    "version": 3
   },
   "file_extension": ".py",
   "mimetype": "text/x-python",
   "name": "python",
   "nbconvert_exporter": "python",
   "pygments_lexer": "ipython3",
   "version": "3.13.5"
  }
 },
 "nbformat": 4,
 "nbformat_minor": 5
}
